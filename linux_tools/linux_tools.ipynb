{
 "cells": [
  {
   "cell_type": "markdown",
   "id": "17e8a4d3",
   "metadata": {},
   "source": [
    "# wifi 投屏开源框架介绍"
   ]
  },
  {
   "cell_type": "markdown",
   "id": "61cf0871",
   "metadata": {},
   "source": [
    "* 原生投屏工具\n",
    "https://github.com/Genymobile/scrcpy\n",
    "\n",
    "* 支持wifi投屏工具\n",
    "https://github.com/Tomotoes/scrcpy-gui\n",
    "\n",
    "* 支持键盘模拟吃鸡投屏工具\n",
    "https://github.com/barry-ran/QtScrcpy\n",
    "\n",
    "* 修复键盘模拟吃鸡投屏工具编译错误\n",
    "https://github.com/Cherish-forever/QtScrcpy"
   ]
  },
  {
   "cell_type": "markdown",
   "id": "6d0e60ae",
   "metadata": {},
   "source": [
    "# 系统装机工具"
   ]
  },
  {
   "cell_type": "markdown",
   "id": "402e0130",
   "metadata": {},
   "source": [
    "* Ventoy\n",
    "https://www.ventoy.net/cn/index.html"
   ]
  },
  {
   "cell_type": "markdown",
   "id": "d7ef1fed",
   "metadata": {},
   "source": [
    "# 翻墙工具"
   ]
  },
  {
   "cell_type": "markdown",
   "id": "a7cd7210",
   "metadata": {},
   "source": [
    "* 链接：https://portal.shadowsocks.nz/clientarea.php"
   ]
  },
  {
   "cell_type": "markdown",
   "id": "7f50aab1",
   "metadata": {},
   "source": [
    "# git详细教程"
   ]
  },
  {
   "cell_type": "markdown",
   "id": "42e8cdb9",
   "metadata": {},
   "source": [
    "* 阅读: https://git-scm.com/book/zh/v2"
   ]
  },
  {
   "cell_type": "code",
   "execution_count": null,
   "id": "64b5860c",
   "metadata": {},
   "outputs": [],
   "source": []
  }
 ],
 "metadata": {
  "kernelspec": {
   "display_name": "Python 3",
   "language": "python",
   "name": "python3"
  },
  "language_info": {
   "codemirror_mode": {
    "name": "ipython",
    "version": 3
   },
   "file_extension": ".py",
   "mimetype": "text/x-python",
   "name": "python",
   "nbconvert_exporter": "python",
   "pygments_lexer": "ipython3",
   "version": "3.8.5"
  }
 },
 "nbformat": 4,
 "nbformat_minor": 5
}
